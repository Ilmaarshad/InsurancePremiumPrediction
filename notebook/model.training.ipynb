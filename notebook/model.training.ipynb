{
 "cells": [
  {
   "cell_type": "code",
   "execution_count": 1,
   "metadata": {},
   "outputs": [
    {
     "data": {
      "text/html": [
       "<div>\n",
       "<style scoped>\n",
       "    .dataframe tbody tr th:only-of-type {\n",
       "        vertical-align: middle;\n",
       "    }\n",
       "\n",
       "    .dataframe tbody tr th {\n",
       "        vertical-align: top;\n",
       "    }\n",
       "\n",
       "    .dataframe thead th {\n",
       "        text-align: right;\n",
       "    }\n",
       "</style>\n",
       "<table border=\"1\" class=\"dataframe\">\n",
       "  <thead>\n",
       "    <tr style=\"text-align: right;\">\n",
       "      <th></th>\n",
       "      <th>age</th>\n",
       "      <th>sex</th>\n",
       "      <th>bmi</th>\n",
       "      <th>children</th>\n",
       "      <th>smoker</th>\n",
       "      <th>region</th>\n",
       "      <th>expenses</th>\n",
       "    </tr>\n",
       "  </thead>\n",
       "  <tbody>\n",
       "    <tr>\n",
       "      <th>0</th>\n",
       "      <td>19</td>\n",
       "      <td>0</td>\n",
       "      <td>27.9</td>\n",
       "      <td>0</td>\n",
       "      <td>1</td>\n",
       "      <td>southwest</td>\n",
       "      <td>16884.92</td>\n",
       "    </tr>\n",
       "    <tr>\n",
       "      <th>1</th>\n",
       "      <td>18</td>\n",
       "      <td>1</td>\n",
       "      <td>33.8</td>\n",
       "      <td>1</td>\n",
       "      <td>0</td>\n",
       "      <td>southeast</td>\n",
       "      <td>1725.55</td>\n",
       "    </tr>\n",
       "  </tbody>\n",
       "</table>\n",
       "</div>"
      ],
      "text/plain": [
       "   age  sex   bmi  children  smoker     region  expenses\n",
       "0   19    0  27.9         0       1  southwest  16884.92\n",
       "1   18    1  33.8         1       0  southeast   1725.55"
      ]
     },
     "execution_count": 1,
     "metadata": {},
     "output_type": "execute_result"
    }
   ],
   "source": [
    "import pandas as pd\n",
    "df=pd.read_csv(\"data/cleaned.csv\")\n",
    "(df.head(2))"
   ]
  },
  {
   "cell_type": "code",
   "execution_count": 2,
   "metadata": {},
   "outputs": [],
   "source": [
    "#Seperate independent and dependent features\n",
    "X=df.drop(labels='expenses',axis=1)\n",
    "y=df['expenses']"
   ]
  },
  {
   "cell_type": "code",
   "execution_count": 3,
   "metadata": {},
   "outputs": [
    {
     "name": "stdout",
     "output_type": "stream",
     "text": [
      "Index(['region'], dtype='object')\n",
      "Index(['age', 'sex', 'bmi', 'children', 'smoker'], dtype='object')\n"
     ]
    }
   ],
   "source": [
    "categorical_feature = X.select_dtypes(include='object').columns\n",
    "numerical_feature = X.select_dtypes(exclude='object').columns\n",
    "print(categorical_feature)\n",
    "print(numerical_feature)"
   ]
  },
  {
   "cell_type": "code",
   "execution_count": 4,
   "metadata": {},
   "outputs": [],
   "source": [
    "from sklearn.impute import SimpleImputer #for all the missing values\n",
    "from sklearn.preprocessing import StandardScaler #Feature scaling\n",
    "from sklearn.pipeline import Pipeline\n",
    "from sklearn.preprocessing import OrdinalEncoder #Oridnal Encoding\n",
    "from sklearn.compose import ColumnTransformer\n",
    "from sklearn.preprocessing import OneHotEncoder"
   ]
  },
  {
   "cell_type": "code",
   "execution_count": 5,
   "metadata": {},
   "outputs": [],
   "source": [
    "numerical_pipeline = Pipeline([\n",
    "    ('imputer',SimpleImputer(strategy='median')),\n",
    "    ('scaler', StandardScaler())\n",
    "])\n",
    "\n",
    "\n",
    "categorical_pipeline = Pipeline([\n",
    "    ('imputer', SimpleImputer(strategy='most_frequent')),\n",
    "    ('ordinalencode', OrdinalEncoder()),\n",
    "    ('onehotencode', OneHotEncoder(sparse=False,handle_unknown=\"ignore\")),\n",
    "    ('scaler',StandardScaler())\n",
    "\n",
    "])\n",
    "\n",
    "preprocessor = ColumnTransformer([  \n",
    "    ('numerical_pipeline',numerical_pipeline,numerical_feature),\n",
    "    ('categorical_pipeline',categorical_pipeline,categorical_feature)\n",
    "])"
   ]
  },
  {
   "cell_type": "code",
   "execution_count": 6,
   "metadata": {},
   "outputs": [],
   "source": [
    "from sklearn.model_selection import train_test_split\n",
    "X_train,X_test,y_train,y_test = train_test_split(X,y,test_size=.20,random_state=42)"
   ]
  },
  {
   "cell_type": "code",
   "execution_count": 7,
   "metadata": {},
   "outputs": [
    {
     "name": "stdout",
     "output_type": "stream",
     "text": [
      "(1069, 6)\n",
      "(268, 6)\n",
      "(1069,)\n",
      "(268,)\n"
     ]
    }
   ],
   "source": [
    "print(X_train.shape)\n",
    "print(X_test.shape)\n",
    "print(y_train.shape)\n",
    "print(y_test.shape)"
   ]
  },
  {
   "cell_type": "code",
   "execution_count": 8,
   "metadata": {},
   "outputs": [
    {
     "name": "stderr",
     "output_type": "stream",
     "text": [
      "c:\\Users\\hp\\OneDrive\\Desktop\\InsPremiumPred\\venv\\lib\\site-packages\\scikit_learn-1.3.0-py3.9-win-amd64.egg\\sklearn\\preprocessing\\_encoders.py:972: FutureWarning: `sparse` was renamed to `sparse_output` in version 1.2 and will be removed in 1.4. `sparse_output` is ignored unless you leave `sparse` to its default value.\n",
      "  warnings.warn(\n"
     ]
    }
   ],
   "source": [
    "X_train=pd.DataFrame(preprocessor.fit_transform(X_train))\n",
    "X_test=pd.DataFrame(preprocessor.transform(X_test))"
   ]
  },
  {
   "cell_type": "code",
   "execution_count": 9,
   "metadata": {},
   "outputs": [
    {
     "data": {
      "text/html": [
       "<div>\n",
       "<style scoped>\n",
       "    .dataframe tbody tr th:only-of-type {\n",
       "        vertical-align: middle;\n",
       "    }\n",
       "\n",
       "    .dataframe tbody tr th {\n",
       "        vertical-align: top;\n",
       "    }\n",
       "\n",
       "    .dataframe thead th {\n",
       "        text-align: right;\n",
       "    }\n",
       "</style>\n",
       "<table border=\"1\" class=\"dataframe\">\n",
       "  <thead>\n",
       "    <tr style=\"text-align: right;\">\n",
       "      <th></th>\n",
       "      <th>0</th>\n",
       "      <th>1</th>\n",
       "      <th>2</th>\n",
       "      <th>3</th>\n",
       "      <th>4</th>\n",
       "      <th>5</th>\n",
       "      <th>6</th>\n",
       "      <th>7</th>\n",
       "      <th>8</th>\n",
       "    </tr>\n",
       "  </thead>\n",
       "  <tbody>\n",
       "    <tr>\n",
       "      <th>0</th>\n",
       "      <td>-1.157680</td>\n",
       "      <td>0.971409</td>\n",
       "      <td>-0.999052</td>\n",
       "      <td>-0.907908</td>\n",
       "      <td>-0.500292</td>\n",
       "      <td>1.795911</td>\n",
       "      <td>-0.572669</td>\n",
       "      <td>-0.605812</td>\n",
       "      <td>-0.574110</td>\n",
       "    </tr>\n",
       "    <tr>\n",
       "      <th>1</th>\n",
       "      <td>-1.300619</td>\n",
       "      <td>0.971409</td>\n",
       "      <td>-0.800646</td>\n",
       "      <td>0.766904</td>\n",
       "      <td>-0.500292</td>\n",
       "      <td>1.795911</td>\n",
       "      <td>-0.572669</td>\n",
       "      <td>-0.605812</td>\n",
       "      <td>-0.574110</td>\n",
       "    </tr>\n",
       "    <tr>\n",
       "      <th>2</th>\n",
       "      <td>0.914926</td>\n",
       "      <td>-1.029432</td>\n",
       "      <td>1.150347</td>\n",
       "      <td>0.766904</td>\n",
       "      <td>-0.500292</td>\n",
       "      <td>-0.556820</td>\n",
       "      <td>1.746208</td>\n",
       "      <td>-0.605812</td>\n",
       "      <td>-0.574110</td>\n",
       "    </tr>\n",
       "    <tr>\n",
       "      <th>3</th>\n",
       "      <td>1.701087</td>\n",
       "      <td>0.971409</td>\n",
       "      <td>1.811701</td>\n",
       "      <td>-0.907908</td>\n",
       "      <td>-0.500292</td>\n",
       "      <td>-0.556820</td>\n",
       "      <td>-0.572669</td>\n",
       "      <td>1.650678</td>\n",
       "      <td>-0.574110</td>\n",
       "    </tr>\n",
       "    <tr>\n",
       "      <th>4</th>\n",
       "      <td>0.557580</td>\n",
       "      <td>-1.029432</td>\n",
       "      <td>-0.651842</td>\n",
       "      <td>0.766904</td>\n",
       "      <td>-0.500292</td>\n",
       "      <td>1.795911</td>\n",
       "      <td>-0.572669</td>\n",
       "      <td>-0.605812</td>\n",
       "      <td>-0.574110</td>\n",
       "    </tr>\n",
       "    <tr>\n",
       "      <th>...</th>\n",
       "      <td>...</td>\n",
       "      <td>...</td>\n",
       "      <td>...</td>\n",
       "      <td>...</td>\n",
       "      <td>...</td>\n",
       "      <td>...</td>\n",
       "      <td>...</td>\n",
       "      <td>...</td>\n",
       "      <td>...</td>\n",
       "    </tr>\n",
       "    <tr>\n",
       "      <th>1064</th>\n",
       "      <td>0.843457</td>\n",
       "      <td>-1.029432</td>\n",
       "      <td>0.737001</td>\n",
       "      <td>0.766904</td>\n",
       "      <td>1.998831</td>\n",
       "      <td>1.795911</td>\n",
       "      <td>-0.572669</td>\n",
       "      <td>-0.605812</td>\n",
       "      <td>-0.574110</td>\n",
       "    </tr>\n",
       "    <tr>\n",
       "      <th>1065</th>\n",
       "      <td>-0.871804</td>\n",
       "      <td>0.971409</td>\n",
       "      <td>2.539190</td>\n",
       "      <td>0.766904</td>\n",
       "      <td>-0.500292</td>\n",
       "      <td>-0.556820</td>\n",
       "      <td>-0.572669</td>\n",
       "      <td>-0.605812</td>\n",
       "      <td>1.741827</td>\n",
       "    </tr>\n",
       "    <tr>\n",
       "      <th>1066</th>\n",
       "      <td>-1.372088</td>\n",
       "      <td>0.971409</td>\n",
       "      <td>-1.412398</td>\n",
       "      <td>-0.070502</td>\n",
       "      <td>-0.500292</td>\n",
       "      <td>-0.556820</td>\n",
       "      <td>-0.572669</td>\n",
       "      <td>-0.605812</td>\n",
       "      <td>1.741827</td>\n",
       "    </tr>\n",
       "    <tr>\n",
       "      <th>1067</th>\n",
       "      <td>-0.085643</td>\n",
       "      <td>-1.029432</td>\n",
       "      <td>-0.420368</td>\n",
       "      <td>1.604310</td>\n",
       "      <td>-0.500292</td>\n",
       "      <td>-0.556820</td>\n",
       "      <td>-0.572669</td>\n",
       "      <td>-0.605812</td>\n",
       "      <td>1.741827</td>\n",
       "    </tr>\n",
       "    <tr>\n",
       "      <th>1068</th>\n",
       "      <td>-0.300050</td>\n",
       "      <td>-1.029432</td>\n",
       "      <td>0.885806</td>\n",
       "      <td>0.766904</td>\n",
       "      <td>-0.500292</td>\n",
       "      <td>-0.556820</td>\n",
       "      <td>-0.572669</td>\n",
       "      <td>1.650678</td>\n",
       "      <td>-0.574110</td>\n",
       "    </tr>\n",
       "  </tbody>\n",
       "</table>\n",
       "<p>1069 rows × 9 columns</p>\n",
       "</div>"
      ],
      "text/plain": [
       "             0         1         2         3         4         5         6  \\\n",
       "0    -1.157680  0.971409 -0.999052 -0.907908 -0.500292  1.795911 -0.572669   \n",
       "1    -1.300619  0.971409 -0.800646  0.766904 -0.500292  1.795911 -0.572669   \n",
       "2     0.914926 -1.029432  1.150347  0.766904 -0.500292 -0.556820  1.746208   \n",
       "3     1.701087  0.971409  1.811701 -0.907908 -0.500292 -0.556820 -0.572669   \n",
       "4     0.557580 -1.029432 -0.651842  0.766904 -0.500292  1.795911 -0.572669   \n",
       "...        ...       ...       ...       ...       ...       ...       ...   \n",
       "1064  0.843457 -1.029432  0.737001  0.766904  1.998831  1.795911 -0.572669   \n",
       "1065 -0.871804  0.971409  2.539190  0.766904 -0.500292 -0.556820 -0.572669   \n",
       "1066 -1.372088  0.971409 -1.412398 -0.070502 -0.500292 -0.556820 -0.572669   \n",
       "1067 -0.085643 -1.029432 -0.420368  1.604310 -0.500292 -0.556820 -0.572669   \n",
       "1068 -0.300050 -1.029432  0.885806  0.766904 -0.500292 -0.556820 -0.572669   \n",
       "\n",
       "             7         8  \n",
       "0    -0.605812 -0.574110  \n",
       "1    -0.605812 -0.574110  \n",
       "2    -0.605812 -0.574110  \n",
       "3     1.650678 -0.574110  \n",
       "4    -0.605812 -0.574110  \n",
       "...        ...       ...  \n",
       "1064 -0.605812 -0.574110  \n",
       "1065 -0.605812  1.741827  \n",
       "1066 -0.605812  1.741827  \n",
       "1067 -0.605812  1.741827  \n",
       "1068  1.650678 -0.574110  \n",
       "\n",
       "[1069 rows x 9 columns]"
      ]
     },
     "execution_count": 9,
     "metadata": {},
     "output_type": "execute_result"
    }
   ],
   "source": [
    "X_train"
   ]
  },
  {
   "cell_type": "code",
   "execution_count": 10,
   "metadata": {},
   "outputs": [],
   "source": [
    "#Model training initiated\n",
    "from sklearn.linear_model import LinearRegression,Ridge,Lasso,ElasticNet\n",
    "from sklearn.ensemble import RandomForestRegressor\n",
    "from sklearn.metrics import mean_absolute_error,mean_squared_error,r2_score"
   ]
  },
  {
   "cell_type": "code",
   "execution_count": 11,
   "metadata": {},
   "outputs": [
    {
     "data": {
      "text/html": [
       "<style>#sk-container-id-1 {color: black;}#sk-container-id-1 pre{padding: 0;}#sk-container-id-1 div.sk-toggleable {background-color: white;}#sk-container-id-1 label.sk-toggleable__label {cursor: pointer;display: block;width: 100%;margin-bottom: 0;padding: 0.3em;box-sizing: border-box;text-align: center;}#sk-container-id-1 label.sk-toggleable__label-arrow:before {content: \"▸\";float: left;margin-right: 0.25em;color: #696969;}#sk-container-id-1 label.sk-toggleable__label-arrow:hover:before {color: black;}#sk-container-id-1 div.sk-estimator:hover label.sk-toggleable__label-arrow:before {color: black;}#sk-container-id-1 div.sk-toggleable__content {max-height: 0;max-width: 0;overflow: hidden;text-align: left;background-color: #f0f8ff;}#sk-container-id-1 div.sk-toggleable__content pre {margin: 0.2em;color: black;border-radius: 0.25em;background-color: #f0f8ff;}#sk-container-id-1 input.sk-toggleable__control:checked~div.sk-toggleable__content {max-height: 200px;max-width: 100%;overflow: auto;}#sk-container-id-1 input.sk-toggleable__control:checked~label.sk-toggleable__label-arrow:before {content: \"▾\";}#sk-container-id-1 div.sk-estimator input.sk-toggleable__control:checked~label.sk-toggleable__label {background-color: #d4ebff;}#sk-container-id-1 div.sk-label input.sk-toggleable__control:checked~label.sk-toggleable__label {background-color: #d4ebff;}#sk-container-id-1 input.sk-hidden--visually {border: 0;clip: rect(1px 1px 1px 1px);clip: rect(1px, 1px, 1px, 1px);height: 1px;margin: -1px;overflow: hidden;padding: 0;position: absolute;width: 1px;}#sk-container-id-1 div.sk-estimator {font-family: monospace;background-color: #f0f8ff;border: 1px dotted black;border-radius: 0.25em;box-sizing: border-box;margin-bottom: 0.5em;}#sk-container-id-1 div.sk-estimator:hover {background-color: #d4ebff;}#sk-container-id-1 div.sk-parallel-item::after {content: \"\";width: 100%;border-bottom: 1px solid gray;flex-grow: 1;}#sk-container-id-1 div.sk-label:hover label.sk-toggleable__label {background-color: #d4ebff;}#sk-container-id-1 div.sk-serial::before {content: \"\";position: absolute;border-left: 1px solid gray;box-sizing: border-box;top: 0;bottom: 0;left: 50%;z-index: 0;}#sk-container-id-1 div.sk-serial {display: flex;flex-direction: column;align-items: center;background-color: white;padding-right: 0.2em;padding-left: 0.2em;position: relative;}#sk-container-id-1 div.sk-item {position: relative;z-index: 1;}#sk-container-id-1 div.sk-parallel {display: flex;align-items: stretch;justify-content: center;background-color: white;position: relative;}#sk-container-id-1 div.sk-item::before, #sk-container-id-1 div.sk-parallel-item::before {content: \"\";position: absolute;border-left: 1px solid gray;box-sizing: border-box;top: 0;bottom: 0;left: 50%;z-index: -1;}#sk-container-id-1 div.sk-parallel-item {display: flex;flex-direction: column;z-index: 1;position: relative;background-color: white;}#sk-container-id-1 div.sk-parallel-item:first-child::after {align-self: flex-end;width: 50%;}#sk-container-id-1 div.sk-parallel-item:last-child::after {align-self: flex-start;width: 50%;}#sk-container-id-1 div.sk-parallel-item:only-child::after {width: 0;}#sk-container-id-1 div.sk-dashed-wrapped {border: 1px dashed gray;margin: 0 0.4em 0.5em 0.4em;box-sizing: border-box;padding-bottom: 0.4em;background-color: white;}#sk-container-id-1 div.sk-label label {font-family: monospace;font-weight: bold;display: inline-block;line-height: 1.2em;}#sk-container-id-1 div.sk-label-container {text-align: center;}#sk-container-id-1 div.sk-container {/* jupyter's `normalize.less` sets `[hidden] { display: none; }` but bootstrap.min.css set `[hidden] { display: none !important; }` so we also need the `!important` here to be able to override the default hidden behavior on the sphinx rendered scikit-learn.org. See: https://github.com/scikit-learn/scikit-learn/issues/21755 */display: inline-block !important;position: relative;}#sk-container-id-1 div.sk-text-repr-fallback {display: none;}</style><div id=\"sk-container-id-1\" class=\"sk-top-container\"><div class=\"sk-text-repr-fallback\"><pre>LinearRegression()</pre><b>In a Jupyter environment, please rerun this cell to show the HTML representation or trust the notebook. <br />On GitHub, the HTML representation is unable to render, please try loading this page with nbviewer.org.</b></div><div class=\"sk-container\" hidden><div class=\"sk-item\"><div class=\"sk-estimator sk-toggleable\"><input class=\"sk-toggleable__control sk-hidden--visually\" id=\"sk-estimator-id-1\" type=\"checkbox\" checked><label for=\"sk-estimator-id-1\" class=\"sk-toggleable__label sk-toggleable__label-arrow\">LinearRegression</label><div class=\"sk-toggleable__content\"><pre>LinearRegression()</pre></div></div></div></div></div>"
      ],
      "text/plain": [
       "LinearRegression()"
      ]
     },
     "execution_count": 11,
     "metadata": {},
     "output_type": "execute_result"
    }
   ],
   "source": [
    "regression=LinearRegression()\n",
    "regression.fit(X_train,y_train)"
   ]
  },
  {
   "cell_type": "code",
   "execution_count": 12,
   "metadata": {},
   "outputs": [
    {
     "data": {
      "text/plain": [
       "array([ 3.48399237e+03, -5.02190031e+00,  1.91858116e+03,  5.79952564e+02,\n",
       "        9.21528682e+03,  1.47124808e+17,  1.49272730e+17,  1.53399836e+17,\n",
       "        1.49462256e+17])"
      ]
     },
     "execution_count": 12,
     "metadata": {},
     "output_type": "execute_result"
    }
   ],
   "source": [
    "regression.coef_"
   ]
  },
  {
   "cell_type": "code",
   "execution_count": 13,
   "metadata": {},
   "outputs": [
    {
     "data": {
      "text/plain": [
       "12983.587478109033"
      ]
     },
     "execution_count": 13,
     "metadata": {},
     "output_type": "execute_result"
    }
   ],
   "source": [
    "regression.intercept_\n"
   ]
  },
  {
   "cell_type": "code",
   "execution_count": 16,
   "metadata": {},
   "outputs": [],
   "source": [
    "#training model\n",
    "import numpy as np\n",
    "\n",
    "def model_evalution(test,predict):\n",
    "    mse = mean_squared_error(test,predict)\n",
    "    rmse = np.sqrt(mse)\n",
    "    mae = mean_absolute_error(test,predict)\n",
    "    r2score = r2_score(test,predict)\n",
    "    return mse,rmse,mae,r2score"
   ]
  },
  {
   "cell_type": "code",
   "execution_count": 17,
   "metadata": {},
   "outputs": [
    {
     "name": "stdout",
     "output_type": "stream",
     "text": [
      "LinearRegression\n",
      "Model Traning Performance\n",
      "MSE 3573582188.4521565\n",
      "MAE 597794.4620396008\n",
      "RMSE 416969.85242030805\n",
      "R2 80.5525759360819\n",
      "========================================\n",
      "Ridge\n",
      "Model Traning Performance\n",
      "MSE 3551549409.3700843\n",
      "MAE 595948.773752416\n",
      "RMSE 417983.0484840471\n",
      "R2 80.67247825692408\n",
      "========================================\n",
      "Lasso\n",
      "Model Traning Performance\n",
      "MSE 3548853293.5687304\n",
      "MAE 595722.5271524261\n",
      "RMSE 417747.2693600179\n",
      "R2 80.68715051141533\n",
      "========================================\n",
      "ElasticNet\n",
      "Model Traning Performance\n",
      "MSE 6057074372.240994\n",
      "MAE 778272.0843150546\n",
      "RMSE 552117.3909754846\n",
      "R2 67.03741856440078\n",
      "========================================\n",
      "RandomForestRegressor\n",
      "Model Traning Performance\n",
      "MSE 2131000741.8157299\n",
      "MAE 461627.63585120527\n",
      "RMSE 251311.61779850742\n",
      "R2 88.40310004887148\n",
      "========================================\n"
     ]
    }
   ],
   "source": [
    "models =  {\n",
    "    \"LinearRegression\":LinearRegression(),\n",
    "    \"Ridge\":Ridge(),\n",
    "    \"Lasso\":Lasso(),\n",
    "    \"ElasticNet\":ElasticNet(),\n",
    "    \"RandomForestRegressor\":RandomForestRegressor(random_state=3)\n",
    "}\n",
    "\n",
    "traning_score = []\n",
    "model_list = []\n",
    "r2_list = []\n",
    "y_pred_list = []\n",
    "\n",
    "for i in range(len(list(models))):\n",
    "    model  = list(models.values())[i]\n",
    "#     train Model\n",
    "    model.fit(X_train,y_train)\n",
    "    score = model.score(X_train,y_train)\n",
    "    \n",
    "    # Make Prediction\n",
    "    y_pradict = model.predict(X_test)\n",
    "    \n",
    "    mse,mae,rmse,r2score = model_evalution(y_test,y_pradict)\n",
    "    print(list(models.keys())[i])\n",
    "    model_list.append(list(models.keys())[i])\n",
    "    \n",
    "    # matrix performance\n",
    "    print(\"Model Traning Performance\")\n",
    "    print(\"MSE\",mse*100)\n",
    "    print(\"MAE\",mae*100)\n",
    "    print(\"RMSE\",rmse*100)\n",
    "    print(\"R2\",r2score*100)\n",
    "    print(\"=\"*40)\n",
    "    \n",
    "    r2_list.append(r2score*100)\n",
    "    y_pred_list.append(y_pradict)\n",
    "    traning_score.append(score)"
   ]
  },
  {
   "cell_type": "code",
   "execution_count": null,
   "metadata": {},
   "outputs": [],
   "source": []
  }
 ],
 "metadata": {
  "kernelspec": {
   "display_name": "Python 3",
   "language": "python",
   "name": "python3"
  },
  "language_info": {
   "codemirror_mode": {
    "name": "ipython",
    "version": 3
   },
   "file_extension": ".py",
   "mimetype": "text/x-python",
   "name": "python",
   "nbconvert_exporter": "python",
   "pygments_lexer": "ipython3",
   "version": "3.9.17"
  },
  "orig_nbformat": 4
 },
 "nbformat": 4,
 "nbformat_minor": 2
}
